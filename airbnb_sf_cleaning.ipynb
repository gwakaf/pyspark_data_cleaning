{
 "cells": [
  {
   "cell_type": "markdown",
   "id": "ba63ec16-b765-43d3-8aaa-528bff826c11",
   "metadata": {},
   "source": [
    "# PySpark Data Cleaning exercise"
   ]
  },
  {
   "cell_type": "markdown",
   "id": "6c94c1f9-4709-4885-9a55-c3ddde727507",
   "metadata": {},
   "source": [
    "**Import Libraries for Python Spark** "
   ]
  },
  {
   "cell_type": "code",
   "execution_count": 1,
   "id": "0f9be09e-6749-4839-8d8c-76eddd1ed513",
   "metadata": {},
   "outputs": [],
   "source": [
    "from pyspark import SparkContext\n",
    "from pyspark.sql import SparkSession"
   ]
  },
  {
   "cell_type": "code",
   "execution_count": 2,
   "id": "4b51ace7-87cd-4bf9-8b3b-a50049c63797",
   "metadata": {},
   "outputs": [],
   "source": [
    "from pyspark.sql import Row\n",
    "from pyspark.sql.types import StructType, StructField, IntegerType, StringType, DoubleType, DateType, DecimalType, LongType\n",
    "from pyspark.sql.functions import *"
   ]
  },
  {
   "cell_type": "markdown",
   "id": "021f19d8-def8-4a4e-afa3-cc77bfddba9f",
   "metadata": {},
   "source": [
    "**Initialize a Spark session**"
   ]
  },
  {
   "cell_type": "code",
   "execution_count": 5,
   "id": "c4a5af8a-78e5-46ac-b1d4-0c5c0ef180d2",
   "metadata": {},
   "outputs": [],
   "source": [
    "spark = SparkSession.\\\n",
    "    builder.\\\n",
    "    getOrCreate()"
   ]
  },
  {
   "cell_type": "markdown",
   "id": "84258bcc-986b-4055-8e1a-badf0c6d44ef",
   "metadata": {},
   "source": [
    "**Read raw data from .csv files**"
   ]
  },
  {
   "cell_type": "code",
   "execution_count": 6,
   "id": "6398a1fc-c792-415e-b9c6-e3db14e9e6b4",
   "metadata": {},
   "outputs": [],
   "source": [
    "raw_listings_df = spark.read.csv(\"listings.csv\",header=True, inferSchema=True,multiLine=True, escape=\"\\\"\", quote=\"\\\"\")"
   ]
  },
  {
   "cell_type": "code",
   "execution_count": 7,
   "id": "9a1d6397-93c2-42af-af84-da6006131127",
   "metadata": {},
   "outputs": [],
   "source": [
    "raw_reviews_df = spark.read.csv(\"reviews.csv\",header=True, inferSchema=True,multiLine=True, escape=\"\\\"\", quote=\"\\\"\")"
   ]
  },
  {
   "cell_type": "markdown",
   "id": "471bab33-08f6-42a4-bb23-60196a28c699",
   "metadata": {},
   "source": [
    "**Exploratory analysis\n",
    "    - Understand column names and types\n",
    "    - Check out a sample of the data**"
   ]
  },
  {
   "cell_type": "code",
   "execution_count": 8,
   "id": "baa85884-f69f-4396-9494-5f30d13e4b83",
   "metadata": {},
   "outputs": [
    {
     "name": "stdout",
     "output_type": "stream",
     "text": [
      "root\n",
      " |-- id: long (nullable = true)\n",
      " |-- listing_url: string (nullable = true)\n",
      " |-- scrape_id: long (nullable = true)\n",
      " |-- last_scraped: date (nullable = true)\n",
      " |-- source: string (nullable = true)\n",
      " |-- name: string (nullable = true)\n",
      " |-- description: string (nullable = true)\n",
      " |-- neighborhood_overview: string (nullable = true)\n",
      " |-- picture_url: string (nullable = true)\n",
      " |-- host_id: integer (nullable = true)\n",
      " |-- host_url: string (nullable = true)\n",
      " |-- host_name: string (nullable = true)\n",
      " |-- host_since: date (nullable = true)\n",
      " |-- host_location: string (nullable = true)\n",
      " |-- host_about: string (nullable = true)\n",
      " |-- host_response_time: string (nullable = true)\n",
      " |-- host_response_rate: string (nullable = true)\n",
      " |-- host_acceptance_rate: string (nullable = true)\n",
      " |-- host_is_superhost: string (nullable = true)\n",
      " |-- host_thumbnail_url: string (nullable = true)\n",
      " |-- host_picture_url: string (nullable = true)\n",
      " |-- host_neighbourhood: string (nullable = true)\n",
      " |-- host_listings_count: integer (nullable = true)\n",
      " |-- host_total_listings_count: integer (nullable = true)\n",
      " |-- host_verifications: string (nullable = true)\n",
      " |-- host_has_profile_pic: string (nullable = true)\n",
      " |-- host_identity_verified: string (nullable = true)\n",
      " |-- neighbourhood: string (nullable = true)\n",
      " |-- neighbourhood_cleansed: string (nullable = true)\n",
      " |-- neighbourhood_group_cleansed: string (nullable = true)\n",
      " |-- latitude: double (nullable = true)\n",
      " |-- longitude: double (nullable = true)\n",
      " |-- property_type: string (nullable = true)\n",
      " |-- room_type: string (nullable = true)\n",
      " |-- accommodates: integer (nullable = true)\n",
      " |-- bathrooms: double (nullable = true)\n",
      " |-- bathrooms_text: string (nullable = true)\n",
      " |-- bedrooms: integer (nullable = true)\n",
      " |-- beds: integer (nullable = true)\n",
      " |-- amenities: string (nullable = true)\n",
      " |-- price: string (nullable = true)\n",
      " |-- minimum_nights: integer (nullable = true)\n",
      " |-- maximum_nights: integer (nullable = true)\n",
      " |-- minimum_minimum_nights: integer (nullable = true)\n",
      " |-- maximum_minimum_nights: integer (nullable = true)\n",
      " |-- minimum_maximum_nights: integer (nullable = true)\n",
      " |-- maximum_maximum_nights: integer (nullable = true)\n",
      " |-- minimum_nights_avg_ntm: double (nullable = true)\n",
      " |-- maximum_nights_avg_ntm: double (nullable = true)\n",
      " |-- calendar_updated: string (nullable = true)\n",
      " |-- has_availability: string (nullable = true)\n",
      " |-- availability_30: integer (nullable = true)\n",
      " |-- availability_60: integer (nullable = true)\n",
      " |-- availability_90: integer (nullable = true)\n",
      " |-- availability_365: integer (nullable = true)\n",
      " |-- calendar_last_scraped: date (nullable = true)\n",
      " |-- number_of_reviews: integer (nullable = true)\n",
      " |-- number_of_reviews_ltm: integer (nullable = true)\n",
      " |-- number_of_reviews_l30d: integer (nullable = true)\n",
      " |-- availability_eoy: integer (nullable = true)\n",
      " |-- number_of_reviews_ly: integer (nullable = true)\n",
      " |-- estimated_occupancy_l365d: integer (nullable = true)\n",
      " |-- estimated_revenue_l365d: integer (nullable = true)\n",
      " |-- first_review: date (nullable = true)\n",
      " |-- last_review: date (nullable = true)\n",
      " |-- review_scores_rating: double (nullable = true)\n",
      " |-- review_scores_accuracy: double (nullable = true)\n",
      " |-- review_scores_cleanliness: double (nullable = true)\n",
      " |-- review_scores_checkin: double (nullable = true)\n",
      " |-- review_scores_communication: double (nullable = true)\n",
      " |-- review_scores_location: double (nullable = true)\n",
      " |-- review_scores_value: double (nullable = true)\n",
      " |-- license: string (nullable = true)\n",
      " |-- instant_bookable: string (nullable = true)\n",
      " |-- calculated_host_listings_count: integer (nullable = true)\n",
      " |-- calculated_host_listings_count_entire_homes: integer (nullable = true)\n",
      " |-- calculated_host_listings_count_private_rooms: integer (nullable = true)\n",
      " |-- calculated_host_listings_count_shared_rooms: integer (nullable = true)\n",
      " |-- reviews_per_month: double (nullable = true)\n",
      "\n"
     ]
    }
   ],
   "source": [
    "raw_listings_df.printSchema()"
   ]
  },
  {
   "cell_type": "code",
   "execution_count": 9,
   "id": "1bbf8151-8419-47c8-b98d-815f5c1052ae",
   "metadata": {},
   "outputs": [
    {
     "name": "stdout",
     "output_type": "stream",
     "text": [
      "root\n",
      " |-- listing_id: long (nullable = true)\n",
      " |-- id: long (nullable = true)\n",
      " |-- date: date (nullable = true)\n",
      " |-- reviewer_id: integer (nullable = true)\n",
      " |-- reviewer_name: string (nullable = true)\n",
      " |-- comments: string (nullable = true)\n",
      "\n"
     ]
    }
   ],
   "source": [
    "raw_reviews_df.printSchema()"
   ]
  },
  {
   "cell_type": "code",
   "execution_count": 11,
   "id": "b96f1c33-4e3a-4c2c-9bd9-1ed5ca505963",
   "metadata": {},
   "outputs": [
    {
     "name": "stdout",
     "output_type": "stream",
     "text": [
      "+----------+-----+----------+-----------+-------------+--------------------+\n",
      "|listing_id|   id|      date|reviewer_id|reviewer_name|            comments|\n",
      "+----------+-----+----------+-----------+-------------+--------------------+\n",
      "|       958| 5977|2009-07-23|      15695|     Edmund C|Our experience wa...|\n",
      "|       958| 6660|2009-08-03|      26145|        Simon|Returning to San ...|\n",
      "|       958|11519|2009-09-27|      25839|        Denis|We were very plea...|\n",
      "+----------+-----+----------+-----------+-------------+--------------------+\n",
      "only showing top 3 rows\n",
      "\n"
     ]
    }
   ],
   "source": [
    "raw_reviews_df.show(3)"
   ]
  },
  {
   "cell_type": "markdown",
   "id": "555f90dc-f617-423c-93e9-642cf0cb5f50",
   "metadata": {},
   "source": [
    "**Schema-on-write approach\n",
    "Using schema enforcement or schema-on-write approach: define the schema to attempt write the data using that schema.\n",
    "It allows to catch Data Quality issues early: data types mismatches, values that are out of bounds.**"
   ]
  },
  {
   "cell_type": "code",
   "execution_count": 12,
   "id": "dcf866e9-7c75-431b-bc2b-3ef0408ec97d",
   "metadata": {},
   "outputs": [],
   "source": [
    "listings_schema = StructType([\n",
    " StructField(\"id\", LongType(), nullable=False),\n",
    " StructField(\"host_id\", IntegerType(), nullable=False),\n",
    " StructField(\"neighbourhood\", StringType(), nullable=True),\n",
    " StructField(\"room_type\", StringType(), nullable=False),\n",
    " StructField(\"price\", DecimalType(10, 2), nullable=True),\n",
    " StructField(\"minimum_nights\", IntegerType(), nullable=True),\n",
    " StructField(\"number_of_reviews\", IntegerType(), nullable=True),\n",
    " StructField(\"last_review\", DateType(), nullable=True)\n",
    "])"
   ]
  },
  {
   "cell_type": "markdown",
   "id": "0335bf1f-d875-4c58-b984-6bda9bc509d7",
   "metadata": {},
   "source": [
    "**Select only the fields required for future analysis**"
   ]
  },
  {
   "cell_type": "code",
   "execution_count": 13,
   "id": "c8b467de-b360-4968-8daf-70cc8dbe504a",
   "metadata": {},
   "outputs": [],
   "source": [
    "selected_df = raw_listings_df.select(\"id\",\\\n",
    "                                    \"host_id\",\\\n",
    "                                    \"neighbourhood_cleansed\",\\\n",
    "                                    \"room_type\",\\\n",
    "                                    \"price\",\\\n",
    "                                    \"minimum_nights\",\\\n",
    "                                    \"number_of_reviews\",\\\n",
    "                                    \"last_review\")"
   ]
  },
  {
   "cell_type": "code",
   "execution_count": 14,
   "id": "d160560d-f539-4c56-972e-b31362015113",
   "metadata": {},
   "outputs": [
    {
     "name": "stdout",
     "output_type": "stream",
     "text": [
      "+-------------------+---------+----------------------+---------------+-------+--------------+-----------------+-----------+\n",
      "|id                 |host_id  |neighbourhood_cleansed|room_type      |price  |minimum_nights|number_of_reviews|last_review|\n",
      "+-------------------+---------+----------------------+---------------+-------+--------------+-----------------+-----------+\n",
      "|1158063164891809038|294451422|Inner Sunset          |Private room   |$50.00 |30            |0                |NULL       |\n",
      "|53241705           |1825803  |Western Addition      |Entire home/apt|$150.00|30            |2                |2022-07-04 |\n",
      "|115242             |582450   |North Beach           |Entire home/apt|$140.00|30            |21               |2023-08-26 |\n",
      "+-------------------+---------+----------------------+---------------+-------+--------------+-----------------+-----------+\n",
      "only showing top 3 rows\n",
      "\n"
     ]
    }
   ],
   "source": [
    "selected_df.show(3,truncate=False)"
   ]
  },
  {
   "cell_type": "markdown",
   "id": "eeedab84-92c4-43bb-a56a-e62fb9f6e8e8",
   "metadata": {},
   "source": [
    "**Cast field type and rename columns, if required**"
   ]
  },
  {
   "cell_type": "code",
   "execution_count": 15,
   "id": "ddb16ee6-1859-443e-bedc-5823ee54d0db",
   "metadata": {},
   "outputs": [],
   "source": [
    "casted_df = (\n",
    "    selected_df\n",
    "    .withColumn(\"price\", regexp_replace(\"price\", \"[$,]\", \"\").cast(DecimalType(10, 2)))\n",
    "    .withColumnRenamed(\"neighbourhood_cleansed\", \"neighbourhood\")\n",
    ")"
   ]
  },
  {
   "cell_type": "code",
   "execution_count": 16,
   "id": "200199d2-5789-4710-b3ad-2eb597dac421",
   "metadata": {},
   "outputs": [
    {
     "name": "stdout",
     "output_type": "stream",
     "text": [
      "+-------------------+---------+----------------+---------------+------+--------------+-----------------+-----------+\n",
      "|                 id|  host_id|   neighbourhood|      room_type| price|minimum_nights|number_of_reviews|last_review|\n",
      "+-------------------+---------+----------------+---------------+------+--------------+-----------------+-----------+\n",
      "|1158063164891809038|294451422|    Inner Sunset|   Private room| 50.00|            30|                0|       NULL|\n",
      "|           53241705|  1825803|Western Addition|Entire home/apt|150.00|            30|                2| 2022-07-04|\n",
      "|             115242|   582450|     North Beach|Entire home/apt|140.00|            30|               21| 2023-08-26|\n",
      "+-------------------+---------+----------------+---------------+------+--------------+-----------------+-----------+\n",
      "only showing top 3 rows\n",
      "\n"
     ]
    }
   ],
   "source": [
    "casted_df.show(3)"
   ]
  },
  {
   "cell_type": "markdown",
   "id": "0421787e-2ce7-45b4-9af5-5dae7d46566d",
   "metadata": {},
   "source": [
    "**Write data to your dataframe applying predefined schema and analyse errors**"
   ]
  },
  {
   "cell_type": "code",
   "execution_count": 17,
   "id": "395fce8e-7d79-44c2-9b46-055c9f7bd345",
   "metadata": {},
   "outputs": [],
   "source": [
    "listings_df = spark.createDataFrame(casted_df.rdd, schema=listings_schema)"
   ]
  },
  {
   "cell_type": "code",
   "execution_count": 18,
   "id": "c00bd88d-bb61-413d-8da7-1934bcd193a0",
   "metadata": {},
   "outputs": [
    {
     "name": "stdout",
     "output_type": "stream",
     "text": [
      "root\n",
      " |-- id: long (nullable = false)\n",
      " |-- host_id: integer (nullable = false)\n",
      " |-- neighbourhood: string (nullable = true)\n",
      " |-- room_type: string (nullable = false)\n",
      " |-- price: decimal(10,2) (nullable = true)\n",
      " |-- minimum_nights: integer (nullable = true)\n",
      " |-- number_of_reviews: integer (nullable = true)\n",
      " |-- last_review: date (nullable = true)\n",
      "\n"
     ]
    }
   ],
   "source": [
    "listings_df.printSchema()"
   ]
  },
  {
   "cell_type": "code",
   "execution_count": 19,
   "id": "0b5513dc-0705-4d1f-8aa6-79f919b13893",
   "metadata": {},
   "outputs": [
    {
     "name": "stdout",
     "output_type": "stream",
     "text": [
      "+-------------------+---------+----------------+---------------+------+--------------+-----------------+-----------+\n",
      "|                 id|  host_id|   neighbourhood|      room_type| price|minimum_nights|number_of_reviews|last_review|\n",
      "+-------------------+---------+----------------+---------------+------+--------------+-----------------+-----------+\n",
      "|1158063164891809038|294451422|    Inner Sunset|   Private room| 50.00|            30|                0|       NULL|\n",
      "|           53241705|  1825803|Western Addition|Entire home/apt|150.00|            30|                2| 2022-07-04|\n",
      "|             115242|   582450|     North Beach|Entire home/apt|140.00|            30|               21| 2023-08-26|\n",
      "+-------------------+---------+----------------+---------------+------+--------------+-----------------+-----------+\n",
      "only showing top 3 rows\n",
      "\n"
     ]
    }
   ],
   "source": [
    "listings_df.show(3)"
   ]
  },
  {
   "cell_type": "markdown",
   "id": "ac405606-6000-4359-9513-b84572cf96cf",
   "metadata": {},
   "source": [
    "**Replacing all occurrences of \"\" (empty strings) with null in all columns**"
   ]
  },
  {
   "cell_type": "code",
   "execution_count": 20,
   "id": "07a7d34c-808f-4b78-85a3-c7599252814a",
   "metadata": {},
   "outputs": [],
   "source": [
    "listings_df = listings_df.replace(\"\", None)"
   ]
  },
  {
   "cell_type": "markdown",
   "id": "7a193dfc-bd08-4048-b952-01bae8348978",
   "metadata": {},
   "source": [
    "**Remove leading/trailing whitespace from all string columns**"
   ]
  },
  {
   "cell_type": "code",
   "execution_count": 21,
   "id": "9af1dea7-2624-48fe-9a1d-feefb51a7e53",
   "metadata": {},
   "outputs": [],
   "source": [
    "listings_df = listings_df.select([\n",
    "    trim(col(c)).alias(c) if dtype == StringType() else col(c)\n",
    "    for c, dtype in listings_df.dtypes\n",
    "])"
   ]
  },
  {
   "cell_type": "markdown",
   "id": "b13967c7-a152-4f8a-8a3f-7aff6ae42f7b",
   "metadata": {},
   "source": [
    "**Capitalize Strings using UDF**"
   ]
  },
  {
   "cell_type": "code",
   "execution_count": 22,
   "id": "ff7fffea-841d-4820-a252-2a8d263cc48a",
   "metadata": {},
   "outputs": [],
   "source": [
    "def to_title_case(s):\n",
    "    if s is None:\n",
    "        return None\n",
    "    return ' '.join(word.capitalize() for word in s.strip().split())\n",
    "\n",
    "title_case_udf = udf(to_title_case, StringType())\n",
    "\n",
    "listings_df = listings_df.select([\n",
    "    title_case_udf(col(c)).alias(c) if dtype == \"string\" else col(c)\n",
    "    for c, dtype in listings_df.dtypes\n",
    "])"
   ]
  },
  {
   "cell_type": "markdown",
   "id": "391de315-a4f7-4f7b-90ce-859b31727f61",
   "metadata": {},
   "source": [
    "**Check id field for duplicates**"
   ]
  },
  {
   "cell_type": "code",
   "execution_count": 23,
   "id": "68b3132e-cdfa-4bd0-8f5f-e5903fe907e8",
   "metadata": {},
   "outputs": [
    {
     "name": "stdout",
     "output_type": "stream",
     "text": [
      "+---+-----+\n",
      "| id|count|\n",
      "+---+-----+\n",
      "+---+-----+\n",
      "\n"
     ]
    }
   ],
   "source": [
    "listings_df.groupBy(\"id\") \\\n",
    "  .count() \\\n",
    "  .filter(\"count > 1\") \\\n",
    "  .show()"
   ]
  },
  {
   "cell_type": "markdown",
   "id": "302e39b5-a478-4762-a458-0045713084fc",
   "metadata": {},
   "source": [
    "**Check for nulls in the number_of_reviews column and replace them with 0**"
   ]
  },
  {
   "cell_type": "code",
   "execution_count": 24,
   "id": "640e13a1-9d25-42dc-8a26-e50f51b831bd",
   "metadata": {},
   "outputs": [],
   "source": [
    "listings_df = listings_df.fillna({\"number_of_reviews\": 0})"
   ]
  },
  {
   "cell_type": "markdown",
   "id": "c43182ee-6bb9-45ff-b1c3-5deecdbb2139",
   "metadata": {},
   "source": [
    "**Check/explore data**"
   ]
  },
  {
   "cell_type": "code",
   "execution_count": 25,
   "id": "40f630e7-4a00-4fb5-8c53-4474c45b212f",
   "metadata": {},
   "outputs": [
    {
     "name": "stdout",
     "output_type": "stream",
     "text": [
      "+-------------------+\n",
      "|      neighbourhood|\n",
      "+-------------------+\n",
      "|       Inner Sunset|\n",
      "|     Haight Ashbury|\n",
      "| Financial District|\n",
      "|        North Beach|\n",
      "|   Western Addition|\n",
      "|     Bernal Heights|\n",
      "|          Lakeshore|\n",
      "|       Outer Sunset|\n",
      "|  Visitacion Valley|\n",
      "|     Inner Richmond|\n",
      "|           Nob Hill|\n",
      "|     Outer Richmond|\n",
      "|     Crocker Amazon|\n",
      "|Castro/upper Market|\n",
      "|            Bayview|\n",
      "|          Chinatown|\n",
      "|            Mission|\n",
      "|          Excelsior|\n",
      "|         Twin Peaks|\n",
      "|           Seacliff|\n",
      "+-------------------+\n",
      "only showing top 20 rows\n",
      "\n"
     ]
    }
   ],
   "source": [
    "listings_df.select(\"neighbourhood\").distinct().show()"
   ]
  },
  {
   "cell_type": "code",
   "execution_count": 26,
   "id": "fec07bf2-3d4e-45ac-8cb5-6d6e04595eab",
   "metadata": {},
   "outputs": [
    {
     "name": "stdout",
     "output_type": "stream",
     "text": [
      "+---------------+\n",
      "|      room_type|\n",
      "+---------------+\n",
      "|Entire Home/apt|\n",
      "|    Shared Room|\n",
      "|     Hotel Room|\n",
      "|   Private Room|\n",
      "+---------------+\n",
      "\n"
     ]
    }
   ],
   "source": [
    "listings_df.select(\"room_type\").distinct().show()"
   ]
  },
  {
   "cell_type": "markdown",
   "id": "68a041a6-1650-4ce1-a777-6ddc25fbdb50",
   "metadata": {},
   "source": [
    "**Check that room_type column contains only the expected values**"
   ]
  },
  {
   "cell_type": "code",
   "execution_count": 27,
   "id": "a46cebf7-d2fe-427b-a24e-a951d6e6ef0c",
   "metadata": {},
   "outputs": [
    {
     "name": "stdout",
     "output_type": "stream",
     "text": [
      "+---------------+\n",
      "|      room_type|\n",
      "+---------------+\n",
      "|Entire Home/apt|\n",
      "|    Shared Room|\n",
      "|     Hotel Room|\n",
      "|   Private Room|\n",
      "+---------------+\n",
      "\n"
     ]
    }
   ],
   "source": [
    "expected_room_types = [\n",
    "    \"Shared room\",\n",
    "    \"Hotel room\",\n",
    "    \"Entire home/apt\",\n",
    "    \"Private room\"\n",
    "]\n",
    "unexpected_values = listings_df.filter(~col(\"room_type\").isin(expected_room_types))\n",
    "unexpected_values.select(\"room_type\").distinct().show()"
   ]
  },
  {
   "cell_type": "markdown",
   "id": "956e1eb1-268e-488c-8006-032dd7a57839",
   "metadata": {},
   "source": [
    "**Filter the recent data (past year)**"
   ]
  },
  {
   "cell_type": "code",
   "execution_count": 28,
   "id": "b02e546c-3519-4e72-b927-a73cae9fa801",
   "metadata": {},
   "outputs": [],
   "source": [
    "recent_reviews_df = raw_reviews_df.filter(col(\"date\") >= date_sub(current_date(), 365))"
   ]
  },
  {
   "cell_type": "markdown",
   "id": "0d39ba50-bd7a-4cd6-b2ef-b3310444455e",
   "metadata": {},
   "source": [
    "**Joining two datasets applying broadcast join for optimization.\n",
    "Using a broadcast join while joining recent_reviews_df with listings_df, where listings_df is much smaller,\n",
    "allows us to avoid shuffling.**"
   ]
  },
  {
   "cell_type": "code",
   "execution_count": 29,
   "id": "2041a289-0858-4f1a-a7b9-59af477ed271",
   "metadata": {},
   "outputs": [],
   "source": [
    "from pyspark.sql.functions import broadcast\n",
    "\n",
    "listings_with_reviews = recent_reviews_df.join(\n",
    "    broadcast(listings_df),  \n",
    "    recent_reviews_df.listing_id == listings_df.id,\n",
    "    how=\"inner\"\n",
    ")"
   ]
  }
 ],
 "metadata": {
  "kernelspec": {
   "display_name": "Python 3 (ipykernel)",
   "language": "python",
   "name": "python3"
  },
  "language_info": {
   "codemirror_mode": {
    "name": "ipython",
    "version": 3
   },
   "file_extension": ".py",
   "mimetype": "text/x-python",
   "name": "python",
   "nbconvert_exporter": "python",
   "pygments_lexer": "ipython3",
   "version": "3.12.3"
  }
 },
 "nbformat": 4,
 "nbformat_minor": 5
}
